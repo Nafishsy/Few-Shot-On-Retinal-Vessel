{
 "cells": [
  {
   "cell_type": "code",
   "execution_count": null,
   "metadata": {
    "vscode": {
     "languageId": "plaintext"
    }
   },
   "outputs": [],
   "source": [
    "# PATCH_SIZE = 2048//2\n",
    "PATCH_SIZE = 2048//2\n",
    "# PATCH_SIZE = 64*2\n",
    "\n",
    "BATCH_SIZE = 16\n",
    "EPOCHS = 75\n",
    "STRIDE= PATCH_SIZE//2\n",
    "STEP_SIZE =50*4"
   ]
  },
  {
   "cell_type": "code",
   "execution_count": null,
   "metadata": {
    "vscode": {
     "languageId": "plaintext"
    }
   },
   "outputs": [],
   "source": []
  }
 ],
 "metadata": {
  "language_info": {
   "name": "python"
  }
 },
 "nbformat": 4,
 "nbformat_minor": 2
}
